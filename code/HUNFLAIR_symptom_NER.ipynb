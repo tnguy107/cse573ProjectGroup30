{
  "nbformat": 4,
  "nbformat_minor": 0,
  "metadata": {
    "colab": {
      "name": "HUNFLAIR_symptom_NER",
      "provenance": []
    },
    "kernelspec": {
      "name": "python3",
      "display_name": "Python 3"
    },
    "accelerator": "GPU",
    "widgets": {
      "application/vnd.jupyter.widget-state+json": {
        "4a7dc56eaf704f2389cf1073dc1c013f": {
          "model_module": "@jupyter-widgets/controls",
          "model_name": "HBoxModel",
          "state": {
            "_view_name": "HBoxView",
            "_dom_classes": [],
            "_model_name": "HBoxModel",
            "_view_module": "@jupyter-widgets/controls",
            "_model_module_version": "1.5.0",
            "_view_count": null,
            "_view_module_version": "1.5.0",
            "box_style": "",
            "layout": "IPY_MODEL_d26921116fcc4e19876ef7783865f371",
            "_model_module": "@jupyter-widgets/controls",
            "children": [
              "IPY_MODEL_99407e0f8e744a8f95a9f39c73c3aeb0",
              "IPY_MODEL_827a85cdb8d04c67945a9ecbf1281f62"
            ]
          }
        },
        "d26921116fcc4e19876ef7783865f371": {
          "model_module": "@jupyter-widgets/base",
          "model_name": "LayoutModel",
          "state": {
            "_view_name": "LayoutView",
            "grid_template_rows": null,
            "right": null,
            "justify_content": null,
            "_view_module": "@jupyter-widgets/base",
            "overflow": null,
            "_model_module_version": "1.2.0",
            "_view_count": null,
            "flex_flow": null,
            "width": null,
            "min_width": null,
            "border": null,
            "align_items": null,
            "bottom": null,
            "_model_module": "@jupyter-widgets/base",
            "top": null,
            "grid_column": null,
            "overflow_y": null,
            "overflow_x": null,
            "grid_auto_flow": null,
            "grid_area": null,
            "grid_template_columns": null,
            "flex": null,
            "_model_name": "LayoutModel",
            "justify_items": null,
            "grid_row": null,
            "max_height": null,
            "align_content": null,
            "visibility": null,
            "align_self": null,
            "height": null,
            "min_height": null,
            "padding": null,
            "grid_auto_rows": null,
            "grid_gap": null,
            "max_width": null,
            "order": null,
            "_view_module_version": "1.2.0",
            "grid_template_areas": null,
            "object_position": null,
            "object_fit": null,
            "grid_auto_columns": null,
            "margin": null,
            "display": null,
            "left": null
          }
        },
        "99407e0f8e744a8f95a9f39c73c3aeb0": {
          "model_module": "@jupyter-widgets/controls",
          "model_name": "FloatProgressModel",
          "state": {
            "_view_name": "ProgressView",
            "style": "IPY_MODEL_4c29a9c46da547228a06ac84f4f13d3d",
            "_dom_classes": [],
            "description": "100%",
            "_model_name": "FloatProgressModel",
            "bar_style": "success",
            "max": 185,
            "_view_module": "@jupyter-widgets/controls",
            "_model_module_version": "1.5.0",
            "value": 185,
            "_view_count": null,
            "_view_module_version": "1.5.0",
            "orientation": "horizontal",
            "min": 0,
            "description_tooltip": null,
            "_model_module": "@jupyter-widgets/controls",
            "layout": "IPY_MODEL_d0f30847eda54da9af6569b39e76f8e4"
          }
        },
        "827a85cdb8d04c67945a9ecbf1281f62": {
          "model_module": "@jupyter-widgets/controls",
          "model_name": "HTMLModel",
          "state": {
            "_view_name": "HTMLView",
            "style": "IPY_MODEL_104d1e35ee7e4a39a91e0f567c47151a",
            "_dom_classes": [],
            "description": "",
            "_model_name": "HTMLModel",
            "placeholder": "​",
            "_view_module": "@jupyter-widgets/controls",
            "_model_module_version": "1.5.0",
            "value": " 185/185 [20:03&lt;00:00,  6.51s/it]",
            "_view_count": null,
            "_view_module_version": "1.5.0",
            "description_tooltip": null,
            "_model_module": "@jupyter-widgets/controls",
            "layout": "IPY_MODEL_fbc89e33717941088644e862f70f3f67"
          }
        },
        "4c29a9c46da547228a06ac84f4f13d3d": {
          "model_module": "@jupyter-widgets/controls",
          "model_name": "ProgressStyleModel",
          "state": {
            "_view_name": "StyleView",
            "_model_name": "ProgressStyleModel",
            "description_width": "initial",
            "_view_module": "@jupyter-widgets/base",
            "_model_module_version": "1.5.0",
            "_view_count": null,
            "_view_module_version": "1.2.0",
            "bar_color": null,
            "_model_module": "@jupyter-widgets/controls"
          }
        },
        "d0f30847eda54da9af6569b39e76f8e4": {
          "model_module": "@jupyter-widgets/base",
          "model_name": "LayoutModel",
          "state": {
            "_view_name": "LayoutView",
            "grid_template_rows": null,
            "right": null,
            "justify_content": null,
            "_view_module": "@jupyter-widgets/base",
            "overflow": null,
            "_model_module_version": "1.2.0",
            "_view_count": null,
            "flex_flow": null,
            "width": null,
            "min_width": null,
            "border": null,
            "align_items": null,
            "bottom": null,
            "_model_module": "@jupyter-widgets/base",
            "top": null,
            "grid_column": null,
            "overflow_y": null,
            "overflow_x": null,
            "grid_auto_flow": null,
            "grid_area": null,
            "grid_template_columns": null,
            "flex": null,
            "_model_name": "LayoutModel",
            "justify_items": null,
            "grid_row": null,
            "max_height": null,
            "align_content": null,
            "visibility": null,
            "align_self": null,
            "height": null,
            "min_height": null,
            "padding": null,
            "grid_auto_rows": null,
            "grid_gap": null,
            "max_width": null,
            "order": null,
            "_view_module_version": "1.2.0",
            "grid_template_areas": null,
            "object_position": null,
            "object_fit": null,
            "grid_auto_columns": null,
            "margin": null,
            "display": null,
            "left": null
          }
        },
        "104d1e35ee7e4a39a91e0f567c47151a": {
          "model_module": "@jupyter-widgets/controls",
          "model_name": "DescriptionStyleModel",
          "state": {
            "_view_name": "StyleView",
            "_model_name": "DescriptionStyleModel",
            "description_width": "",
            "_view_module": "@jupyter-widgets/base",
            "_model_module_version": "1.5.0",
            "_view_count": null,
            "_view_module_version": "1.2.0",
            "_model_module": "@jupyter-widgets/controls"
          }
        },
        "fbc89e33717941088644e862f70f3f67": {
          "model_module": "@jupyter-widgets/base",
          "model_name": "LayoutModel",
          "state": {
            "_view_name": "LayoutView",
            "grid_template_rows": null,
            "right": null,
            "justify_content": null,
            "_view_module": "@jupyter-widgets/base",
            "overflow": null,
            "_model_module_version": "1.2.0",
            "_view_count": null,
            "flex_flow": null,
            "width": null,
            "min_width": null,
            "border": null,
            "align_items": null,
            "bottom": null,
            "_model_module": "@jupyter-widgets/base",
            "top": null,
            "grid_column": null,
            "overflow_y": null,
            "overflow_x": null,
            "grid_auto_flow": null,
            "grid_area": null,
            "grid_template_columns": null,
            "flex": null,
            "_model_name": "LayoutModel",
            "justify_items": null,
            "grid_row": null,
            "max_height": null,
            "align_content": null,
            "visibility": null,
            "align_self": null,
            "height": null,
            "min_height": null,
            "padding": null,
            "grid_auto_rows": null,
            "grid_gap": null,
            "max_width": null,
            "order": null,
            "_view_module_version": "1.2.0",
            "grid_template_areas": null,
            "object_position": null,
            "object_fit": null,
            "grid_auto_columns": null,
            "margin": null,
            "display": null,
            "left": null
          }
        },
        "173d1ba2d6d549e88ace7f8bac0a28cf": {
          "model_module": "@jupyter-widgets/controls",
          "model_name": "HBoxModel",
          "state": {
            "_view_name": "HBoxView",
            "_dom_classes": [],
            "_model_name": "HBoxModel",
            "_view_module": "@jupyter-widgets/controls",
            "_model_module_version": "1.5.0",
            "_view_count": null,
            "_view_module_version": "1.5.0",
            "box_style": "",
            "layout": "IPY_MODEL_d0ea5ab92f524bc08cbe4ef0e62d2f61",
            "_model_module": "@jupyter-widgets/controls",
            "children": [
              "IPY_MODEL_69be3189f99d4d5ead0845f32d047b93",
              "IPY_MODEL_5596e680d55542deb5c93f7e71a6271f"
            ]
          }
        },
        "d0ea5ab92f524bc08cbe4ef0e62d2f61": {
          "model_module": "@jupyter-widgets/base",
          "model_name": "LayoutModel",
          "state": {
            "_view_name": "LayoutView",
            "grid_template_rows": null,
            "right": null,
            "justify_content": null,
            "_view_module": "@jupyter-widgets/base",
            "overflow": null,
            "_model_module_version": "1.2.0",
            "_view_count": null,
            "flex_flow": null,
            "width": null,
            "min_width": null,
            "border": null,
            "align_items": null,
            "bottom": null,
            "_model_module": "@jupyter-widgets/base",
            "top": null,
            "grid_column": null,
            "overflow_y": null,
            "overflow_x": null,
            "grid_auto_flow": null,
            "grid_area": null,
            "grid_template_columns": null,
            "flex": null,
            "_model_name": "LayoutModel",
            "justify_items": null,
            "grid_row": null,
            "max_height": null,
            "align_content": null,
            "visibility": null,
            "align_self": null,
            "height": null,
            "min_height": null,
            "padding": null,
            "grid_auto_rows": null,
            "grid_gap": null,
            "max_width": null,
            "order": null,
            "_view_module_version": "1.2.0",
            "grid_template_areas": null,
            "object_position": null,
            "object_fit": null,
            "grid_auto_columns": null,
            "margin": null,
            "display": null,
            "left": null
          }
        },
        "69be3189f99d4d5ead0845f32d047b93": {
          "model_module": "@jupyter-widgets/controls",
          "model_name": "FloatProgressModel",
          "state": {
            "_view_name": "ProgressView",
            "style": "IPY_MODEL_c30771c2c9ed40f284b8d298535339ef",
            "_dom_classes": [],
            "description": "100%",
            "_model_name": "FloatProgressModel",
            "bar_style": "success",
            "max": 185,
            "_view_module": "@jupyter-widgets/controls",
            "_model_module_version": "1.5.0",
            "value": 185,
            "_view_count": null,
            "_view_module_version": "1.5.0",
            "orientation": "horizontal",
            "min": 0,
            "description_tooltip": null,
            "_model_module": "@jupyter-widgets/controls",
            "layout": "IPY_MODEL_1b72c455bc8f4a6eba50bd9e587ae26e"
          }
        },
        "5596e680d55542deb5c93f7e71a6271f": {
          "model_module": "@jupyter-widgets/controls",
          "model_name": "HTMLModel",
          "state": {
            "_view_name": "HTMLView",
            "style": "IPY_MODEL_8f6c73cc530a4dd3ab85317dc47390b5",
            "_dom_classes": [],
            "description": "",
            "_model_name": "HTMLModel",
            "placeholder": "​",
            "_view_module": "@jupyter-widgets/controls",
            "_model_module_version": "1.5.0",
            "value": " 185/185 [00:36&lt;00:00,  5.04it/s]",
            "_view_count": null,
            "_view_module_version": "1.5.0",
            "description_tooltip": null,
            "_model_module": "@jupyter-widgets/controls",
            "layout": "IPY_MODEL_cf03f9e8f76e47c69600877359162051"
          }
        },
        "c30771c2c9ed40f284b8d298535339ef": {
          "model_module": "@jupyter-widgets/controls",
          "model_name": "ProgressStyleModel",
          "state": {
            "_view_name": "StyleView",
            "_model_name": "ProgressStyleModel",
            "description_width": "initial",
            "_view_module": "@jupyter-widgets/base",
            "_model_module_version": "1.5.0",
            "_view_count": null,
            "_view_module_version": "1.2.0",
            "bar_color": null,
            "_model_module": "@jupyter-widgets/controls"
          }
        },
        "1b72c455bc8f4a6eba50bd9e587ae26e": {
          "model_module": "@jupyter-widgets/base",
          "model_name": "LayoutModel",
          "state": {
            "_view_name": "LayoutView",
            "grid_template_rows": null,
            "right": null,
            "justify_content": null,
            "_view_module": "@jupyter-widgets/base",
            "overflow": null,
            "_model_module_version": "1.2.0",
            "_view_count": null,
            "flex_flow": null,
            "width": null,
            "min_width": null,
            "border": null,
            "align_items": null,
            "bottom": null,
            "_model_module": "@jupyter-widgets/base",
            "top": null,
            "grid_column": null,
            "overflow_y": null,
            "overflow_x": null,
            "grid_auto_flow": null,
            "grid_area": null,
            "grid_template_columns": null,
            "flex": null,
            "_model_name": "LayoutModel",
            "justify_items": null,
            "grid_row": null,
            "max_height": null,
            "align_content": null,
            "visibility": null,
            "align_self": null,
            "height": null,
            "min_height": null,
            "padding": null,
            "grid_auto_rows": null,
            "grid_gap": null,
            "max_width": null,
            "order": null,
            "_view_module_version": "1.2.0",
            "grid_template_areas": null,
            "object_position": null,
            "object_fit": null,
            "grid_auto_columns": null,
            "margin": null,
            "display": null,
            "left": null
          }
        },
        "8f6c73cc530a4dd3ab85317dc47390b5": {
          "model_module": "@jupyter-widgets/controls",
          "model_name": "DescriptionStyleModel",
          "state": {
            "_view_name": "StyleView",
            "_model_name": "DescriptionStyleModel",
            "description_width": "",
            "_view_module": "@jupyter-widgets/base",
            "_model_module_version": "1.5.0",
            "_view_count": null,
            "_view_module_version": "1.2.0",
            "_model_module": "@jupyter-widgets/controls"
          }
        },
        "cf03f9e8f76e47c69600877359162051": {
          "model_module": "@jupyter-widgets/base",
          "model_name": "LayoutModel",
          "state": {
            "_view_name": "LayoutView",
            "grid_template_rows": null,
            "right": null,
            "justify_content": null,
            "_view_module": "@jupyter-widgets/base",
            "overflow": null,
            "_model_module_version": "1.2.0",
            "_view_count": null,
            "flex_flow": null,
            "width": null,
            "min_width": null,
            "border": null,
            "align_items": null,
            "bottom": null,
            "_model_module": "@jupyter-widgets/base",
            "top": null,
            "grid_column": null,
            "overflow_y": null,
            "overflow_x": null,
            "grid_auto_flow": null,
            "grid_area": null,
            "grid_template_columns": null,
            "flex": null,
            "_model_name": "LayoutModel",
            "justify_items": null,
            "grid_row": null,
            "max_height": null,
            "align_content": null,
            "visibility": null,
            "align_self": null,
            "height": null,
            "min_height": null,
            "padding": null,
            "grid_auto_rows": null,
            "grid_gap": null,
            "max_width": null,
            "order": null,
            "_view_module_version": "1.2.0",
            "grid_template_areas": null,
            "object_position": null,
            "object_fit": null,
            "grid_auto_columns": null,
            "margin": null,
            "display": null,
            "left": null
          }
        },
        "da13450744144050846b99f42050e324": {
          "model_module": "@jupyter-widgets/controls",
          "model_name": "HBoxModel",
          "state": {
            "_view_name": "HBoxView",
            "_dom_classes": [],
            "_model_name": "HBoxModel",
            "_view_module": "@jupyter-widgets/controls",
            "_model_module_version": "1.5.0",
            "_view_count": null,
            "_view_module_version": "1.5.0",
            "box_style": "",
            "layout": "IPY_MODEL_4594c71912cd4051911e7c737b4d8eef",
            "_model_module": "@jupyter-widgets/controls",
            "children": [
              "IPY_MODEL_73855d9fd4ae4553a0f9d84318db48fb",
              "IPY_MODEL_cb6755d2f7f449f88b33de68fd09bcc4"
            ]
          }
        },
        "4594c71912cd4051911e7c737b4d8eef": {
          "model_module": "@jupyter-widgets/base",
          "model_name": "LayoutModel",
          "state": {
            "_view_name": "LayoutView",
            "grid_template_rows": null,
            "right": null,
            "justify_content": null,
            "_view_module": "@jupyter-widgets/base",
            "overflow": null,
            "_model_module_version": "1.2.0",
            "_view_count": null,
            "flex_flow": null,
            "width": null,
            "min_width": null,
            "border": null,
            "align_items": null,
            "bottom": null,
            "_model_module": "@jupyter-widgets/base",
            "top": null,
            "grid_column": null,
            "overflow_y": null,
            "overflow_x": null,
            "grid_auto_flow": null,
            "grid_area": null,
            "grid_template_columns": null,
            "flex": null,
            "_model_name": "LayoutModel",
            "justify_items": null,
            "grid_row": null,
            "max_height": null,
            "align_content": null,
            "visibility": null,
            "align_self": null,
            "height": null,
            "min_height": null,
            "padding": null,
            "grid_auto_rows": null,
            "grid_gap": null,
            "max_width": null,
            "order": null,
            "_view_module_version": "1.2.0",
            "grid_template_areas": null,
            "object_position": null,
            "object_fit": null,
            "grid_auto_columns": null,
            "margin": null,
            "display": null,
            "left": null
          }
        },
        "73855d9fd4ae4553a0f9d84318db48fb": {
          "model_module": "@jupyter-widgets/controls",
          "model_name": "FloatProgressModel",
          "state": {
            "_view_name": "ProgressView",
            "style": "IPY_MODEL_a8f1869d09734799bb27547f81d66edb",
            "_dom_classes": [],
            "description": "100%",
            "_model_name": "FloatProgressModel",
            "bar_style": "success",
            "max": 185,
            "_view_module": "@jupyter-widgets/controls",
            "_model_module_version": "1.5.0",
            "value": 185,
            "_view_count": null,
            "_view_module_version": "1.5.0",
            "orientation": "horizontal",
            "min": 0,
            "description_tooltip": null,
            "_model_module": "@jupyter-widgets/controls",
            "layout": "IPY_MODEL_dc4ed7e74a524706a83f593a38f19b99"
          }
        },
        "cb6755d2f7f449f88b33de68fd09bcc4": {
          "model_module": "@jupyter-widgets/controls",
          "model_name": "HTMLModel",
          "state": {
            "_view_name": "HTMLView",
            "style": "IPY_MODEL_94f6f611a2394d30bda964784d1109eb",
            "_dom_classes": [],
            "description": "",
            "_model_name": "HTMLModel",
            "placeholder": "​",
            "_view_module": "@jupyter-widgets/controls",
            "_model_module_version": "1.5.0",
            "value": " 185/185 [00:00&lt;00:00, 823.22it/s]",
            "_view_count": null,
            "_view_module_version": "1.5.0",
            "description_tooltip": null,
            "_model_module": "@jupyter-widgets/controls",
            "layout": "IPY_MODEL_5a488a591ae74875b4ef4a4a958a12bb"
          }
        },
        "a8f1869d09734799bb27547f81d66edb": {
          "model_module": "@jupyter-widgets/controls",
          "model_name": "ProgressStyleModel",
          "state": {
            "_view_name": "StyleView",
            "_model_name": "ProgressStyleModel",
            "description_width": "initial",
            "_view_module": "@jupyter-widgets/base",
            "_model_module_version": "1.5.0",
            "_view_count": null,
            "_view_module_version": "1.2.0",
            "bar_color": null,
            "_model_module": "@jupyter-widgets/controls"
          }
        },
        "dc4ed7e74a524706a83f593a38f19b99": {
          "model_module": "@jupyter-widgets/base",
          "model_name": "LayoutModel",
          "state": {
            "_view_name": "LayoutView",
            "grid_template_rows": null,
            "right": null,
            "justify_content": null,
            "_view_module": "@jupyter-widgets/base",
            "overflow": null,
            "_model_module_version": "1.2.0",
            "_view_count": null,
            "flex_flow": null,
            "width": null,
            "min_width": null,
            "border": null,
            "align_items": null,
            "bottom": null,
            "_model_module": "@jupyter-widgets/base",
            "top": null,
            "grid_column": null,
            "overflow_y": null,
            "overflow_x": null,
            "grid_auto_flow": null,
            "grid_area": null,
            "grid_template_columns": null,
            "flex": null,
            "_model_name": "LayoutModel",
            "justify_items": null,
            "grid_row": null,
            "max_height": null,
            "align_content": null,
            "visibility": null,
            "align_self": null,
            "height": null,
            "min_height": null,
            "padding": null,
            "grid_auto_rows": null,
            "grid_gap": null,
            "max_width": null,
            "order": null,
            "_view_module_version": "1.2.0",
            "grid_template_areas": null,
            "object_position": null,
            "object_fit": null,
            "grid_auto_columns": null,
            "margin": null,
            "display": null,
            "left": null
          }
        },
        "94f6f611a2394d30bda964784d1109eb": {
          "model_module": "@jupyter-widgets/controls",
          "model_name": "DescriptionStyleModel",
          "state": {
            "_view_name": "StyleView",
            "_model_name": "DescriptionStyleModel",
            "description_width": "",
            "_view_module": "@jupyter-widgets/base",
            "_model_module_version": "1.5.0",
            "_view_count": null,
            "_view_module_version": "1.2.0",
            "_model_module": "@jupyter-widgets/controls"
          }
        },
        "5a488a591ae74875b4ef4a4a958a12bb": {
          "model_module": "@jupyter-widgets/base",
          "model_name": "LayoutModel",
          "state": {
            "_view_name": "LayoutView",
            "grid_template_rows": null,
            "right": null,
            "justify_content": null,
            "_view_module": "@jupyter-widgets/base",
            "overflow": null,
            "_model_module_version": "1.2.0",
            "_view_count": null,
            "flex_flow": null,
            "width": null,
            "min_width": null,
            "border": null,
            "align_items": null,
            "bottom": null,
            "_model_module": "@jupyter-widgets/base",
            "top": null,
            "grid_column": null,
            "overflow_y": null,
            "overflow_x": null,
            "grid_auto_flow": null,
            "grid_area": null,
            "grid_template_columns": null,
            "flex": null,
            "_model_name": "LayoutModel",
            "justify_items": null,
            "grid_row": null,
            "max_height": null,
            "align_content": null,
            "visibility": null,
            "align_self": null,
            "height": null,
            "min_height": null,
            "padding": null,
            "grid_auto_rows": null,
            "grid_gap": null,
            "max_width": null,
            "order": null,
            "_view_module_version": "1.2.0",
            "grid_template_areas": null,
            "object_position": null,
            "object_fit": null,
            "grid_auto_columns": null,
            "margin": null,
            "display": null,
            "left": null
          }
        }
      }
    }
  },
  "cells": [
    {
      "cell_type": "code",
      "metadata": {
        "colab": {
          "base_uri": "https://localhost:8080/"
        },
        "id": "S0B4-SefBOhF",
        "outputId": "b1d3c6f1-b143-4b40-a68e-2f3c14ac17b3"
      },
      "source": [
        "from google.colab import drive\n",
        "drive.mount('/content/drive')"
      ],
      "execution_count": null,
      "outputs": [
        {
          "output_type": "stream",
          "text": [
            "Mounted at /content/drive\n"
          ],
          "name": "stdout"
        }
      ]
    },
    {
      "cell_type": "code",
      "metadata": {
        "id": "RjsN0bBDGteg"
      },
      "source": [
        "%%capture\n",
        "!pip install flair\n",
        "!pip install scispacy==0.2.5\n",
        "# Restart runtime after installing\n",
        "!pip install --target=/content/data https://s3-us-west-2.amazonaws.com/ai2-s2-scispacy/releases/v0.2.5/en_core_sci_sm-0.2.5.tar.gz\n",
        "# New version of huggingface transformers 4.0.0 breaks flair transformer embeddings\n",
        "#!pip install transformers==3.5.1"
      ],
      "execution_count": null,
      "outputs": []
    },
    {
      "cell_type": "code",
      "metadata": {
        "colab": {
          "base_uri": "https://localhost:8080/",
          "height": 402
        },
        "id": "eCgu0sL_O-X0",
        "outputId": "eb2c4a16-636a-4470-eea8-530ee98f1695"
      },
      "source": [
        "import pandas as pd\n",
        "import unicodedata\n",
        "\n",
        "all_posts = pd.read_csv('/content/drive/My Drive/CSE573_SemanticWebMining/scraped_data.tsv', sep='\\t', encoding='utf-8')\n",
        "#Remove \\xa0, \\n, \\r, \\t\n",
        "all_posts['text'] = [unicodedata.normalize(\"NFKD\", text).replace('\\n', ' ').replace('\\r', ' ').replace('\\t', ' ') for text in all_posts['text']]\n",
        "all_posts"
      ],
      "execution_count": null,
      "outputs": [
        {
          "output_type": "execute_result",
          "data": {
            "text/html": [
              "<div>\n",
              "<style scoped>\n",
              "    .dataframe tbody tr th:only-of-type {\n",
              "        vertical-align: middle;\n",
              "    }\n",
              "\n",
              "    .dataframe tbody tr th {\n",
              "        vertical-align: top;\n",
              "    }\n",
              "\n",
              "    .dataframe thead th {\n",
              "        text-align: right;\n",
              "    }\n",
              "</style>\n",
              "<table border=\"1\" class=\"dataframe\">\n",
              "  <thead>\n",
              "    <tr style=\"text-align: right;\">\n",
              "      <th></th>\n",
              "      <th>title</th>\n",
              "      <th>url</th>\n",
              "      <th>post_num</th>\n",
              "      <th>text</th>\n",
              "    </tr>\n",
              "  </thead>\n",
              "  <tbody>\n",
              "    <tr>\n",
              "      <th>0</th>\n",
              "      <td>Feeling Abused by Expectations on LTC Managers...</td>\n",
              "      <td>https://covid19.camhx.ca/mod/forum/discuss.php...</td>\n",
              "      <td>0</td>\n",
              "      <td>I am becoming more and more frustrated by the...</td>\n",
              "    </tr>\n",
              "    <tr>\n",
              "      <th>1</th>\n",
              "      <td>Feeling Abused by Expectations on LTC Managers...</td>\n",
              "      <td>https://covid19.camhx.ca/mod/forum/discuss.php...</td>\n",
              "      <td>1</td>\n",
              "      <td>Hi Mustang Sally, thank you for sharing your ...</td>\n",
              "    </tr>\n",
              "    <tr>\n",
              "      <th>2</th>\n",
              "      <td>Is this \"Breathe Easy\" Mask Enhancer safe?</td>\n",
              "      <td>https://covid19.camhx.ca/mod/forum/discuss.php...</td>\n",
              "      <td>0</td>\n",
              "      <td>Hello, I saw this new apparatus and wondering...</td>\n",
              "    </tr>\n",
              "    <tr>\n",
              "      <th>3</th>\n",
              "      <td>Is this \"Breathe Easy\" Mask Enhancer safe?</td>\n",
              "      <td>https://covid19.camhx.ca/mod/forum/discuss.php...</td>\n",
              "      <td>1</td>\n",
              "      <td>Hi there, thank you for your post! We are hap...</td>\n",
              "    </tr>\n",
              "    <tr>\n",
              "      <th>4</th>\n",
              "      <td>Is this \"Breathe Easy\" Mask Enhancer safe?</td>\n",
              "      <td>https://covid19.camhx.ca/mod/forum/discuss.php...</td>\n",
              "      <td>2</td>\n",
              "      <td>Thank you for the response but that further c...</td>\n",
              "    </tr>\n",
              "    <tr>\n",
              "      <th>...</th>\n",
              "      <td>...</td>\n",
              "      <td>...</td>\n",
              "      <td>...</td>\n",
              "      <td>...</td>\n",
              "    </tr>\n",
              "    <tr>\n",
              "      <th>180</th>\n",
              "      <td>Supports for Parents/Caregivers</td>\n",
              "      <td>https://covid19.camhx.ca/mod/forum/discuss.php...</td>\n",
              "      <td>0</td>\n",
              "      <td>Just thought I'd share an excellent FREE reso...</td>\n",
              "    </tr>\n",
              "    <tr>\n",
              "      <th>181</th>\n",
              "      <td>Supports for Parents/Caregivers</td>\n",
              "      <td>https://covid19.camhx.ca/mod/forum/discuss.php...</td>\n",
              "      <td>1</td>\n",
              "      <td>Thanks for this post boymom! Yes, it would be...</td>\n",
              "    </tr>\n",
              "    <tr>\n",
              "      <th>182</th>\n",
              "      <td>Supports for Parents/Caregivers</td>\n",
              "      <td>https://covid19.camhx.ca/mod/forum/discuss.php...</td>\n",
              "      <td>2</td>\n",
              "      <td>You're welcome! Happy to help any way I can :...</td>\n",
              "    </tr>\n",
              "    <tr>\n",
              "      <th>183</th>\n",
              "      <td>Pregnant and worried</td>\n",
              "      <td>https://covid19.camhx.ca/mod/forum/discuss.php...</td>\n",
              "      <td>0</td>\n",
              "      <td>I am 8 months pre...</td>\n",
              "    </tr>\n",
              "    <tr>\n",
              "      <th>184</th>\n",
              "      <td>Pregnant and worried</td>\n",
              "      <td>https://covid19.camhx.ca/mod/forum/discuss.php...</td>\n",
              "      <td>1</td>\n",
              "      <td>Thank you for your post. Being pregnant durin...</td>\n",
              "    </tr>\n",
              "  </tbody>\n",
              "</table>\n",
              "<p>185 rows × 4 columns</p>\n",
              "</div>"
            ],
            "text/plain": [
              "                                                 title  ...                                               text\n",
              "0    Feeling Abused by Expectations on LTC Managers...  ...   I am becoming more and more frustrated by the...\n",
              "1    Feeling Abused by Expectations on LTC Managers...  ...   Hi Mustang Sally, thank you for sharing your ...\n",
              "2           Is this \"Breathe Easy\" Mask Enhancer safe?  ...   Hello, I saw this new apparatus and wondering...\n",
              "3           Is this \"Breathe Easy\" Mask Enhancer safe?  ...   Hi there, thank you for your post! We are hap...\n",
              "4           Is this \"Breathe Easy\" Mask Enhancer safe?  ...   Thank you for the response but that further c...\n",
              "..                                                 ...  ...                                                ...\n",
              "180                    Supports for Parents/Caregivers  ...   Just thought I'd share an excellent FREE reso...\n",
              "181                    Supports for Parents/Caregivers  ...   Thanks for this post boymom! Yes, it would be...\n",
              "182                    Supports for Parents/Caregivers  ...   You're welcome! Happy to help any way I can :...\n",
              "183                               Pregnant and worried  ...                               I am 8 months pre...\n",
              "184                               Pregnant and worried  ...   Thank you for your post. Being pregnant durin...\n",
              "\n",
              "[185 rows x 4 columns]"
            ]
          },
          "metadata": {
            "tags": []
          },
          "execution_count": 41
        }
      ]
    },
    {
      "cell_type": "code",
      "metadata": {
        "colab": {
          "base_uri": "https://localhost:8080/",
          "height": 232,
          "referenced_widgets": [
            "4a7dc56eaf704f2389cf1073dc1c013f",
            "d26921116fcc4e19876ef7783865f371",
            "99407e0f8e744a8f95a9f39c73c3aeb0",
            "827a85cdb8d04c67945a9ecbf1281f62",
            "4c29a9c46da547228a06ac84f4f13d3d",
            "d0f30847eda54da9af6569b39e76f8e4",
            "104d1e35ee7e4a39a91e0f567c47151a",
            "fbc89e33717941088644e862f70f3f67",
            "173d1ba2d6d549e88ace7f8bac0a28cf",
            "d0ea5ab92f524bc08cbe4ef0e62d2f61",
            "69be3189f99d4d5ead0845f32d047b93",
            "5596e680d55542deb5c93f7e71a6271f",
            "c30771c2c9ed40f284b8d298535339ef",
            "1b72c455bc8f4a6eba50bd9e587ae26e",
            "8f6c73cc530a4dd3ab85317dc47390b5",
            "cf03f9e8f76e47c69600877359162051"
          ]
        },
        "id": "0Jf1uiVGAiH7",
        "outputId": "af27a355-8750-45b6-f4ce-2c472070a345"
      },
      "source": [
        "from flair.data import Sentence\n",
        "from flair.models import MultiTagger\n",
        "from flair.tokenization import SciSpacyTokenizer\n",
        "from tqdm.notebook import tqdm\n",
        "\n",
        "# make a sentence and tokenize with SciSpaCy\n",
        "print('Tokenizing...')\n",
        "sentences = []\n",
        "for text in tqdm(all_posts['text']):\n",
        "    sentences.append(Sentence(text, use_tokenizer=SciSpacyTokenizer()))\n",
        "\n",
        "# load biomedical tagger\n",
        "tagger = MultiTagger.load(\"hunflair\")\n",
        "\n",
        "# tag sentence\n",
        "print('Predicting...')\n",
        "for sent in tqdm(sentences):\n",
        "    tagger.predict(sent)"
      ],
      "execution_count": null,
      "outputs": [
        {
          "output_type": "stream",
          "text": [
            "Tokenizing...\n"
          ],
          "name": "stdout"
        },
        {
          "output_type": "display_data",
          "data": {
            "application/vnd.jupyter.widget-view+json": {
              "model_id": "4a7dc56eaf704f2389cf1073dc1c013f",
              "version_minor": 0,
              "version_major": 2
            },
            "text/plain": [
              "HBox(children=(FloatProgress(value=0.0, max=185.0), HTML(value='')))"
            ]
          },
          "metadata": {
            "tags": []
          }
        },
        {
          "output_type": "stream",
          "text": [
            "\n",
            "2021-02-22 11:22:18,431 loading file /root/.flair/models/hunflair-celline-v1.0.pt\n",
            "2021-02-22 11:22:36,015 loading file /root/.flair/models/hunflair-chemical-full-v1.0.pt\n",
            "2021-02-22 11:22:54,063 loading file /root/.flair/models/hunflair-disease-full-v1.0.pt\n",
            "2021-02-22 11:23:12,540 loading file /root/.flair/models/hunflair-gene-full-v1.0.pt\n",
            "2021-02-22 11:23:29,418 loading file /root/.flair/models/hunflair-species-full-v1.1.pt\n",
            "Predicting...\n"
          ],
          "name": "stdout"
        },
        {
          "output_type": "display_data",
          "data": {
            "application/vnd.jupyter.widget-view+json": {
              "model_id": "173d1ba2d6d549e88ace7f8bac0a28cf",
              "version_minor": 0,
              "version_major": 2
            },
            "text/plain": [
              "HBox(children=(FloatProgress(value=0.0, max=185.0), HTML(value='')))"
            ]
          },
          "metadata": {
            "tags": []
          }
        },
        {
          "output_type": "stream",
          "text": [
            "\n"
          ],
          "name": "stdout"
        }
      ]
    },
    {
      "cell_type": "code",
      "metadata": {
        "colab": {
          "base_uri": "https://localhost:8080/",
          "height": 136
        },
        "id": "sC-jQacmY00h",
        "outputId": "b357a95f-4aa9-4497-a124-c4b3a72eb8e5"
      },
      "source": [
        "all_posts.iloc[5]['text']"
      ],
      "execution_count": null,
      "outputs": [
        {
          "output_type": "execute_result",
          "data": {
            "application/vnd.google.colaboratory.intrinsic+json": {
              "type": "string"
            },
            "text/plain": [
              "' Hi there, while wearing a mask that fits closely over your nose, cheeks and chin helps to avoid air from coming through the edges of the mask, some people may feel that it is harder to breathe. This trade-off can make it difficult for some people, making it harder for them to keep their masks on for extended periods of time.   Again, though we cannot comment on the safety for any commercial mask/accessories worn either underneath or in front of the mask, I do want to kindly note the following disclaimer that is mentioned on the website: The Cool TurtleTM product is intended for use with non-medical masks only. Do not use for any medical purposes. For guidance on the proper use of non-medical masks, please feel free to review the Non-Medical Masks and Face Covering page on the Government of Canada website. My apologies that we cannot give you a direct answer to your question. We hope these resources can help you make an informed decision regarding your safety.  '"
            ]
          },
          "metadata": {
            "tags": []
          },
          "execution_count": 43
        }
      ]
    },
    {
      "cell_type": "code",
      "metadata": {
        "colab": {
          "base_uri": "https://localhost:8080/",
          "height": 166,
          "referenced_widgets": [
            "da13450744144050846b99f42050e324",
            "4594c71912cd4051911e7c737b4d8eef",
            "73855d9fd4ae4553a0f9d84318db48fb",
            "cb6755d2f7f449f88b33de68fd09bcc4",
            "a8f1869d09734799bb27547f81d66edb",
            "dc4ed7e74a524706a83f593a38f19b99",
            "94f6f611a2394d30bda964784d1109eb",
            "5a488a591ae74875b4ef4a4a958a12bb"
          ]
        },
        "id": "UrZiy94DICGj",
        "outputId": "4b3df9a5-bcaa-48ff-9751-5f817de91712"
      },
      "source": [
        "cnt = 0\n",
        "all_ents = []\n",
        "for sent in tqdm(sentences):\n",
        "    text_ents = []\n",
        "    for entity in sent.get_spans():\n",
        "        text_ents.append(str(entity))\n",
        "    if len(text_ents):\n",
        "        all_ents.append(text_ents)\n",
        "    else:\n",
        "        all_ents.append('-')\n",
        "\n",
        "all_posts['entities'] = all_ents\n",
        "print(all_posts.iloc[0])\n",
        "all_posts.to_csv('/content/drive/MyDrive/CSE573_SemanticWebMining/HUNFLAIR_predictions.tsv', sep='\\t', index=False)"
      ],
      "execution_count": null,
      "outputs": [
        {
          "output_type": "display_data",
          "data": {
            "application/vnd.jupyter.widget-view+json": {
              "model_id": "da13450744144050846b99f42050e324",
              "version_minor": 0,
              "version_major": 2
            },
            "text/plain": [
              "HBox(children=(FloatProgress(value=0.0, max=185.0), HTML(value='')))"
            ]
          },
          "metadata": {
            "tags": []
          }
        },
        {
          "output_type": "stream",
          "text": [
            "\n",
            "title       Feeling Abused by Expectations on LTC Managers...\n",
            "url         https://covid19.camhx.ca/mod/forum/discuss.php...\n",
            "post_num                                                    0\n",
            "text         I am becoming more and more frustrated by the...\n",
            "entities                                                    -\n",
            "Name: 0, dtype: object\n"
          ],
          "name": "stdout"
        }
      ]
    }
  ]
}